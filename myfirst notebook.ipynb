{
    "cells": [
        {
            "cell_type": "code",
            "execution_count": 2,
            "metadata": {},
            "outputs": [
                {
                    "data": {
                        "text/plain": "[Row(Test Cases='Test Design & Execution', _c1=None, _c2=None, _c3=None, _c4=None, _c5=None, _c6=None, _c7=None, _c8=None, _c9=None, _c10=None, _c11=None, _c12=None, _c13=None, _c14=None, _c15='RTA Quality Assessment', _c16=None, _c17=None),\n Row(Test Cases='Feature', _c1='Test Requirement Description', _c2='Test Case Id', _c3='Release Number', _c4='Test Priority', _c5='Test Case Type', _c6='Test Case Description', _c7='Pre-Conditions', _c8='Test Steps', _c9='Expected Results', _c10='Test Data Reference', _c11='Comments', _c12='Test Case Status', _c13='Test Case Result', _c14='Passsed Attempt', _c15='Status', _c16='Test Case Result', _c17='Passed Attempt'),\n Row(Test Cases='Non - Financial Promotion ', _c1='Department Coordinator Submit', _c2='TC_001', _c3=None, _c4='High', _c5='Functional', _c6='Verify that the Department coordinator can nominate an employee for each reward ', _c7='1- Application must be up and running ', _c8=None, _c9=None, _c10=None, _c11=None, _c12=None, _c13=None, _c14=None, _c15=None, _c16=None, _c17=None),\n Row(Test Cases='2- User must have sufficent rights to perform the action\"', _c1=None, _c2='Employee will be nominated for each reward ', _c3=None, _c4=None, _c5='Executed', _c6='Passed', _c7=None, _c8=None, _c9=None, _c10=None, _c11=None, _c12=None, _c13=None, _c14=None, _c15=None, _c16=None, _c17=None),\n Row(Test Cases=None, _c1=None, _c2='TC_002', _c3=None, _c4='High', _c5='Functional', _c6='Verify that the nomination is based on the performance in the previous month ', _c7='1- Application must be up and running ', _c8=None, _c9=None, _c10=None, _c11=None, _c12=None, _c13=None, _c14=None, _c15=None, _c16=None, _c17=None)]"
                    },
                    "execution_count": 2,
                    "metadata": {},
                    "output_type": "execute_result"
                }
            ],
            "source": "# The code was removed by Watson Studio for sharing."
        },
        {
            "cell_type": "code",
            "execution_count": null,
            "metadata": {},
            "outputs": [],
            "source": ""
        }
    ],
    "metadata": {
        "kernelspec": {
            "display_name": "Python 3.7 with Spark",
            "language": "python3",
            "name": "python37"
        },
        "language_info": {
            "codemirror_mode": {
                "name": "ipython",
                "version": 3
            },
            "file_extension": ".py",
            "mimetype": "text/x-python",
            "name": "python",
            "nbconvert_exporter": "python",
            "pygments_lexer": "ipython3",
            "version": "3.7.9"
        }
    },
    "nbformat": 4,
    "nbformat_minor": 1
}