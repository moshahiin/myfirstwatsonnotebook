{
    "cells": [
        {
            "cell_type": "raw",
            "metadata": {},
            "source": "My Data"
        },
        {
            "cell_type": "markdown",
            "metadata": {},
            "source": "# Descrpition\nThis is my local notebook files"
        },
        {
            "cell_type": "code",
            "execution_count": 1,
            "metadata": {},
            "outputs": [
                {
                    "data": {
                        "text/html": "<div>\n<style scoped>\n    .dataframe tbody tr th:only-of-type {\n        vertical-align: middle;\n    }\n\n    .dataframe tbody tr th {\n        vertical-align: top;\n    }\n\n    .dataframe thead th {\n        text-align: right;\n    }\n</style>\n<table border=\"1\" class=\"dataframe\">\n  <thead>\n    <tr style=\"text-align: right;\">\n      <th></th>\n      <th>Test Cases</th>\n      <th>Unnamed: 1</th>\n      <th>Unnamed: 2</th>\n      <th>Unnamed: 3</th>\n      <th>Unnamed: 4</th>\n      <th>Unnamed: 5</th>\n      <th>Unnamed: 6</th>\n      <th>Unnamed: 7</th>\n      <th>Unnamed: 8</th>\n      <th>Unnamed: 9</th>\n      <th>Unnamed: 10</th>\n      <th>Unnamed: 11</th>\n      <th>Unnamed: 12</th>\n      <th>Unnamed: 13</th>\n      <th>Unnamed: 14</th>\n      <th>Unnamed: 15</th>\n      <th>Unnamed: 16</th>\n      <th>Unnamed: 17</th>\n    </tr>\n  </thead>\n  <tbody>\n    <tr>\n      <th>0</th>\n      <td>Test Design &amp; Execution</td>\n      <td>NaN</td>\n      <td>NaN</td>\n      <td>NaN</td>\n      <td>NaN</td>\n      <td>NaN</td>\n      <td>NaN</td>\n      <td>NaN</td>\n      <td>NaN</td>\n      <td>NaN</td>\n      <td>NaN</td>\n      <td>NaN</td>\n      <td>NaN</td>\n      <td>NaN</td>\n      <td>NaN</td>\n      <td>RTA Quality Assessment</td>\n      <td>NaN</td>\n      <td>NaN</td>\n    </tr>\n    <tr>\n      <th>1</th>\n      <td>Feature</td>\n      <td>Test Requirement Description</td>\n      <td>Test Case Id</td>\n      <td>Release Number</td>\n      <td>Test Priority</td>\n      <td>Test Case Type</td>\n      <td>Test Case Description</td>\n      <td>Pre-Conditions</td>\n      <td>Test Steps</td>\n      <td>Expected Results</td>\n      <td>Test Data Reference</td>\n      <td>Comments</td>\n      <td>Test Case Status</td>\n      <td>Test Case Result</td>\n      <td>Passsed Attempt</td>\n      <td>Status</td>\n      <td>Test Case Result</td>\n      <td>Passed Attempt</td>\n    </tr>\n    <tr>\n      <th>2</th>\n      <td>Non - Financial Promotion</td>\n      <td>Department Coordinator Submit</td>\n      <td>TC_001</td>\n      <td>NaN</td>\n      <td>High</td>\n      <td>Functional</td>\n      <td>Verify that the Department coordinator can nom...</td>\n      <td>1- Application must be up and running \\n2- Use...</td>\n      <td>NaN</td>\n      <td>Employee will be nominated for each reward</td>\n      <td>NaN</td>\n      <td>NaN</td>\n      <td>Executed</td>\n      <td>Passed</td>\n      <td>NaN</td>\n      <td>NaN</td>\n      <td>NaN</td>\n      <td>NaN</td>\n    </tr>\n    <tr>\n      <th>3</th>\n      <td>NaN</td>\n      <td>NaN</td>\n      <td>TC_002</td>\n      <td>NaN</td>\n      <td>High</td>\n      <td>Functional</td>\n      <td>Verify that the nomination is based on the per...</td>\n      <td>1- Application must be up and running \\n2- Use...</td>\n      <td>NaN</td>\n      <td>Nminations will be based upon previous month p...</td>\n      <td>NaN</td>\n      <td>beased on director/ceo point of view</td>\n      <td>Not to be Executed</td>\n      <td>Blocked</td>\n      <td>NaN</td>\n      <td>NaN</td>\n      <td>NaN</td>\n      <td>NaN</td>\n    </tr>\n    <tr>\n      <th>4</th>\n      <td>NaN</td>\n      <td>NaN</td>\n      <td>TC_003</td>\n      <td>NaN</td>\n      <td>High</td>\n      <td>Functional</td>\n      <td>Verify that department coordinator can only no...</td>\n      <td>1- Application must be up and running \\n2- Use...</td>\n      <td>NaN</td>\n      <td>Department coordinator will be able to nominat...</td>\n      <td>NaN</td>\n      <td>NaN</td>\n      <td>Executed</td>\n      <td>Passed</td>\n      <td>NaN</td>\n      <td>NaN</td>\n      <td>NaN</td>\n      <td>NaN</td>\n    </tr>\n  </tbody>\n</table>\n</div>",
                        "text/plain": "                   Test Cases                     Unnamed: 1    Unnamed: 2  \\\n0     Test Design & Execution                            NaN           NaN   \n1                     Feature   Test Requirement Description  Test Case Id   \n2  Non - Financial Promotion   Department Coordinator Submit        TC_001   \n3                         NaN                            NaN        TC_002   \n4                         NaN                            NaN        TC_003   \n\n       Unnamed: 3     Unnamed: 4      Unnamed: 5  \\\n0             NaN            NaN             NaN   \n1  Release Number  Test Priority  Test Case Type   \n2             NaN           High      Functional   \n3             NaN           High      Functional   \n4             NaN           High      Functional   \n\n                                          Unnamed: 6  \\\n0                                                NaN   \n1                              Test Case Description   \n2  Verify that the Department coordinator can nom...   \n3  Verify that the nomination is based on the per...   \n4  Verify that department coordinator can only no...   \n\n                                          Unnamed: 7  Unnamed: 8  \\\n0                                                NaN         NaN   \n1                                     Pre-Conditions  Test Steps   \n2  1- Application must be up and running \\n2- Use...         NaN   \n3  1- Application must be up and running \\n2- Use...         NaN   \n4  1- Application must be up and running \\n2- Use...         NaN   \n\n                                          Unnamed: 9          Unnamed: 10  \\\n0                                                NaN                  NaN   \n1                                   Expected Results  Test Data Reference   \n2        Employee will be nominated for each reward                   NaN   \n3  Nminations will be based upon previous month p...                  NaN   \n4  Department coordinator will be able to nominat...                  NaN   \n\n                            Unnamed: 11         Unnamed: 12       Unnamed: 13  \\\n0                                   NaN                 NaN               NaN   \n1                              Comments    Test Case Status  Test Case Result   \n2                                   NaN            Executed            Passed   \n3  beased on director/ceo point of view  Not to be Executed           Blocked   \n4                                   NaN            Executed            Passed   \n\n       Unnamed: 14             Unnamed: 15       Unnamed: 16     Unnamed: 17  \n0              NaN  RTA Quality Assessment               NaN             NaN  \n1  Passsed Attempt                  Status  Test Case Result  Passed Attempt  \n2              NaN                     NaN               NaN             NaN  \n3              NaN                     NaN               NaN             NaN  \n4              NaN                     NaN               NaN             NaN  "
                    },
                    "execution_count": 1,
                    "metadata": {},
                    "output_type": "execute_result"
                }
            ],
            "source": "# The code was removed by Watson Studio for sharing."
        },
        {
            "cell_type": "code",
            "execution_count": null,
            "metadata": {},
            "outputs": [],
            "source": ""
        }
    ],
    "metadata": {
        "kernelspec": {
            "display_name": "Python 3.7",
            "language": "python",
            "name": "python3"
        },
        "language_info": {
            "codemirror_mode": {
                "name": "ipython",
                "version": 3
            },
            "file_extension": ".py",
            "mimetype": "text/x-python",
            "name": "python",
            "nbconvert_exporter": "python",
            "pygments_lexer": "ipython3",
            "version": "3.7.9"
        }
    },
    "nbformat": 4,
    "nbformat_minor": 1
}